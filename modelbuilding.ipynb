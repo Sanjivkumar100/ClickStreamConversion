{
 "cells": [
  {
   "cell_type": "code",
   "execution_count": 1,
   "metadata": {},
   "outputs": [
    {
     "name": "stdout",
     "output_type": "stream",
     "text": [
      "Linear Regression - R2 Score: 0.1364, MAE: 10.0456\n"
     ]
    },
    {
     "name": "stderr",
     "output_type": "stream",
     "text": [
      "2025/02/04 20:35:29 WARNING mlflow.models.model: Model logged without a signature and input example. Please set `input_example` parameter when logging the model to auto infer the model signature.\n"
     ]
    },
    {
     "name": "stdout",
     "output_type": "stream",
     "text": [
      "Lasso Regression - R2 Score: 0.1283, MAE: 9.9953\n"
     ]
    },
    {
     "name": "stderr",
     "output_type": "stream",
     "text": [
      "2025/02/04 20:35:39 WARNING mlflow.models.model: Model logged without a signature and input example. Please set `input_example` parameter when logging the model to auto infer the model signature.\n"
     ]
    },
    {
     "name": "stdout",
     "output_type": "stream",
     "text": [
      "Ridge Regression - R2 Score: 0.1364, MAE: 10.0455\n"
     ]
    },
    {
     "name": "stderr",
     "output_type": "stream",
     "text": [
      "2025/02/04 20:35:48 WARNING mlflow.models.model: Model logged without a signature and input example. Please set `input_example` parameter when logging the model to auto infer the model signature.\n"
     ]
    },
    {
     "name": "stdout",
     "output_type": "stream",
     "text": [
      "Gradient Boosting - R2 Score: 0.9564, MAE: 0.5401\n"
     ]
    },
    {
     "name": "stderr",
     "output_type": "stream",
     "text": [
      "2025/02/04 20:39:24 WARNING mlflow.models.model: Model logged without a signature and input example. Please set `input_example` parameter when logging the model to auto infer the model signature.\n"
     ]
    },
    {
     "name": "stdout",
     "output_type": "stream",
     "text": [
      "XGBoost - R2 Score: 0.9650, MAE: 0.4710\n"
     ]
    },
    {
     "name": "stderr",
     "output_type": "stream",
     "text": [
      "2025/02/04 20:39:39 WARNING mlflow.models.model: Model logged without a signature and input example. Please set `input_example` parameter when logging the model to auto infer the model signature.\n"
     ]
    },
    {
     "name": "stdout",
     "output_type": "stream",
     "text": [
      "Best Model: XGBoost with R2 Score: 0.9650\n"
     ]
    }
   ],
   "source": [
    "from Encoding import DataEncoding\n",
    "from sklearn.preprocessing import StandardScaler\n",
    "from clickstream_regression import Regression\n",
    "import pandas as pd\n",
    "import pickle as pkl\n",
    "clickstream_train = pd.read_csv('C:/Users/sanji/Desktop/ClickStream/clickstream_train_prediction.csv')\n",
    "clickstream_test = pd.read_csv('C:/Users/sanji/Desktop/ClickStream/clickstream_test_prediction.csv')\n",
    "\n",
    "de = DataEncoding(clickstream_train)\n",
    "clickstream_train = de.label_encoder(columns=['page2_clothing_model'])\n",
    "clickstream_train = de.one_hot_encoder(columns=['country'])\n",
    "\n",
    "de = DataEncoding(clickstream_test)\n",
    "clickstream_test = de.label_encoder(columns=['page2_clothing_model'])\n",
    "clickstream_test = de.one_hot_encoder(columns=['country'])\n",
    "\n",
    "X_train = clickstream_train[['page1_main_category', 'page2_clothing_model', 'colour']]\n",
    "y_train = clickstream_train['price']\n",
    "de.save_label_encoding('label_encoder_clickstream_regrssion.pkl')\n",
    "de.save_one_hot_encoding('one_hot_encoder_clickstream_regression.pkl')\n",
    "X_test = clickstream_test[['page1_main_category', 'page2_clothing_model', 'colour']]\n",
    "y_test = clickstream_test['price']\n",
    "\n",
    "sc = StandardScaler()\n",
    "X_train = sc.fit_transform(X_train)\n",
    "X_test = sc.transform(X_test)\n",
    "with open('scaler_reg.pkl', 'wb') as f:\n",
    "    pkl.dump(sc, f)\n",
    "reg = Regression()\n",
    "best_model = reg.evaluate_models(X_train, X_test, y_train, y_test)\n"
   ]
  },
  {
   "cell_type": "code",
   "execution_count": 2,
   "metadata": {},
   "outputs": [
    {
     "name": "stderr",
     "output_type": "stream",
     "text": [
      "2025/02/05 17:14:58 WARNING mlflow.models.model: Model logged without a signature and input example. Please set `input_example` parameter when logging the model to auto infer the model signature.\n"
     ]
    },
    {
     "name": "stdout",
     "output_type": "stream",
     "text": [
      "Accuracy=  0.9984589817192929\n",
      "F1= 0.9984960632243225\n",
      "Precision= 1.0\n",
      "Recall= 0.9969966433072257\n",
      "ROC AUC= 0.9984983216536129\n"
     ]
    },
    {
     "name": "stderr",
     "output_type": "stream",
     "text": [
      "2025/02/05 17:15:05 WARNING mlflow.models.model: Model logged without a signature and input example. Please set `input_example` parameter when logging the model to auto infer the model signature.\n"
     ]
    },
    {
     "name": "stdout",
     "output_type": "stream",
     "text": [
      "Accuracy=  1.0\n",
      "F1= 1.0\n",
      "Precision= 1.0\n",
      "Recall= 1.0\n",
      "ROC AUC= 1.0\n"
     ]
    },
    {
     "name": "stderr",
     "output_type": "stream",
     "text": [
      "2025/02/05 17:15:17 WARNING mlflow.models.model: Model logged without a signature and input example. Please set `input_example` parameter when logging the model to auto infer the model signature.\n"
     ]
    },
    {
     "name": "stdout",
     "output_type": "stream",
     "text": [
      "Accuracy=  1.0\n",
      "F1= 1.0\n",
      "Precision= 1.0\n",
      "Recall= 1.0\n",
      "ROC AUC= 1.0\n",
      "Best Model:  Decision Tree\n",
      "Best Accuracy:  1.0\n"
     ]
    }
   ],
   "source": [
    "from Encoding import DataEncoding\n",
    "from sklearn.preprocessing import StandardScaler\n",
    "from clickstream_classification import classification\n",
    "import pickle as pkl\n",
    "import pandas as pd\n",
    "clickstream_train = pd.read_csv('C:/Users/sanji/Desktop/ClickStream/clickstream_train_prediction.csv')\n",
    "clickstream_test = pd.read_csv('C:/Users/sanji/Desktop/ClickStream/clickstream_test_prediction.csv')\n",
    "\n",
    "de = DataEncoding(clickstream_train)\n",
    "clickstream_train = de.label_encoder(columns=['page2_clothing_model'])\n",
    "clickstream_train = de.one_hot_encoder(columns=['country'])\n",
    "\n",
    "de = DataEncoding(clickstream_test)\n",
    "clickstream_test = de.label_encoder(columns=['page2_clothing_model'])\n",
    "clickstream_test = de.one_hot_encoder(columns=['country'])\n",
    "de.save_label_encoding('label_encoder_clickstream_classification.pkl')\n",
    "de.save_one_hot_encoding('one_hot_encoder_clickstream_classification.pkl')\n",
    "X_train = clickstream_train[['page1_main_category',\t'page2_clothing_model',\t'colour',\t'location',\t'model_photography', 'page', 'price']]\n",
    "y_train = clickstream_train['price_2']\n",
    "\n",
    "X_test = clickstream_test[['page1_main_category',\t'page2_clothing_model',\t'colour',\t'location',\t'model_photography', 'page', 'price']]\n",
    "y_test = clickstream_test['price_2']\n",
    " \n",
    "sc = StandardScaler()\n",
    "X_train = sc.fit_transform(X_train)\n",
    "X_test = sc.transform(X_test)\n",
    "with open('scaler_cls.pkl', 'wb') as f:\n",
    "    pkl.dump(sc, f)\n",
    "y_train=y_train\n",
    "y_test=y_test\n",
    "cls = classification()\n",
    "best_model = cls.evaluate_models(X_train, X_test, y_train, y_test)\n"
   ]
  }
 ],
 "metadata": {
  "kernelspec": {
   "display_name": "myvenv",
   "language": "python",
   "name": "python3"
  },
  "language_info": {
   "codemirror_mode": {
    "name": "ipython",
    "version": 3
   },
   "file_extension": ".py",
   "mimetype": "text/x-python",
   "name": "python",
   "nbconvert_exporter": "python",
   "pygments_lexer": "ipython3",
   "version": "3.9.13"
  }
 },
 "nbformat": 4,
 "nbformat_minor": 2
}
