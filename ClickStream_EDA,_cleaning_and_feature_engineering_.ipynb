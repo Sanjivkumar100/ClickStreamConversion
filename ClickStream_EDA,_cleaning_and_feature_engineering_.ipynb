{
  "cells": [
    {
      "cell_type": "code",
      "execution_count": 1,
      "metadata": {
        "id": "-7TdmmOC7oiI"
      },
      "outputs": [],
      "source": [
        "import pandas as pd\n",
        "clickstream_train=pd.read_csv('train_data.csv')\n",
        "clickstream_test=pd.read_csv('test_data.csv')"
      ]
    },
    {
      "cell_type": "code",
      "execution_count": 3,
      "metadata": {
        "colab": {
          "base_uri": "https://localhost:8080/"
        },
        "id": "EboeAxyT-Evq",
        "outputId": "9ae50c93-4c10-48d5-8a5a-605bb8ab8abb"
      },
      "outputs": [
        {
          "name": "stdout",
          "output_type": "stream",
          "text": [
            "<class 'pandas.core.frame.DataFrame'>\n",
            "RangeIndex: 132379 entries, 0 to 132378\n",
            "Data columns (total 14 columns):\n",
            " #   Column                Non-Null Count   Dtype \n",
            "---  ------                --------------   ----- \n",
            " 0   year                  132379 non-null  int64 \n",
            " 1   month                 132379 non-null  int64 \n",
            " 2   day                   132379 non-null  int64 \n",
            " 3   order                 132379 non-null  int64 \n",
            " 4   country               132379 non-null  int64 \n",
            " 5   session_id            132379 non-null  int64 \n",
            " 6   page1_main_category   132379 non-null  int64 \n",
            " 7   page2_clothing_model  132379 non-null  object\n",
            " 8   colour                132379 non-null  int64 \n",
            " 9   location              132379 non-null  int64 \n",
            " 10  model_photography     132379 non-null  int64 \n",
            " 11  price                 132379 non-null  int64 \n",
            " 12  price_2               132379 non-null  int64 \n",
            " 13  page                  132379 non-null  int64 \n",
            "dtypes: int64(13), object(1)\n",
            "memory usage: 14.1+ MB\n"
          ]
        }
      ],
      "source": [
        "clickstream_train.info()"
      ]
    },
    {
      "cell_type": "code",
      "execution_count": 4,
      "metadata": {
        "id": "geafzZc-CUyh"
      },
      "outputs": [],
      "source": [
        "asia=[1,20,40,6]\n",
        "clickstream_test['country']=['Asia' if i in asia else i for i in clickstream_test['country']]"
      ]
    },
    {
      "cell_type": "code",
      "execution_count": 5,
      "metadata": {
        "id": "5kjTeEh-DW8r"
      },
      "outputs": [],
      "source": [
        "europe=[2,3,7,8,9,10,11,13,14,15,16,17,18,19,21,22,23,24,25,27,28,29,30,31,32,33,34,35,36,37,38,39,41]\n",
        "clickstream_test['country']=['Europe' if i in europe else i for i in clickstream_test['country']]"
      ]
    },
    {
      "cell_type": "code",
      "execution_count": 6,
      "metadata": {
        "id": "sRwFNlHbGzye"
      },
      "outputs": [],
      "source": [
        "america=[4,5,42,26]\n",
        "clickstream_test['country']=['Americas' if i in america else i for i in clickstream_test['country']]"
      ]
    },
    {
      "cell_type": "code",
      "execution_count": 7,
      "metadata": {
        "id": "E_N86GxSHNwc"
      },
      "outputs": [],
      "source": [
        "business=[43,44,45,46,47]\n",
        "clickstream_test['country']=['Business' if i in business else i for i in clickstream_test['country']]"
      ]
    },
    {
      "cell_type": "code",
      "execution_count": 8,
      "metadata": {
        "id": "8PjqG3PtHXaL"
      },
      "outputs": [],
      "source": [
        "darknet=[12]\n",
        "clickstream_test['country']=['Darknet' if i in darknet else i for i in clickstream_test['country']]"
      ]
    },
    {
      "cell_type": "code",
      "execution_count": 10,
      "metadata": {
        "colab": {
          "base_uri": "https://localhost:8080/"
        },
        "id": "8N-cY_6nEe7R",
        "outputId": "837aa0bf-2da7-47e6-a237-3f77e0033408"
      },
      "outputs": [
        {
          "data": {
            "text/plain": [
              "array(['Europe', 'Business', 'Asia', 'Darknet', 'Americas'], dtype=object)"
            ]
          },
          "execution_count": 10,
          "metadata": {},
          "output_type": "execute_result"
        }
      ],
      "source": [
        "clickstream_test['country'].unique()"
      ]
    },
    {
      "cell_type": "code",
      "execution_count": 12,
      "metadata": {
        "id": "TNJbtWo2F44Z"
      },
      "outputs": [],
      "source": [
        "session=clickstream_train.groupby(['session_id','country'])['country'].count().reset_index(name='count')"
      ]
    },
    {
      "cell_type": "code",
      "execution_count": 13,
      "metadata": {
        "colab": {
          "base_uri": "https://localhost:8080/",
          "height": 472
        },
        "id": "jSvIj59Frwl7",
        "outputId": "1dfe5021-3a57-4c3c-f54a-4cacdb87d092"
      },
      "outputs": [
        {
          "data": {
            "image/png": "[encoded data removed]",
            "text/plain": [
              "<Figure size 640x480 with 1 Axes>"
            ]
          },
          "metadata": {},
          "output_type": "display_data"
        }
      ],
      "source": [
        "import matplotlib.pyplot as plt\n",
        "import seaborn as sns\n",
        "plt.title('Number of clicks per country')\n",
        "sns.countplot(data=session,x='country')\n",
        "plt.xlabel('Country')\n",
        "plt.ylabel('Number of clicks')\n",
        "plt.show()"
      ]
    },
    {
      "cell_type": "code",
      "execution_count": 14,
      "metadata": {
        "id": "kCXmWO9Bm15l"
      },
      "outputs": [],
      "source": [
        "session=clickstream_train.groupby(['country','price_2'])['price_2'].count().reset_index(name='purchase_count')"
      ]
    },
    {
      "cell_type": "code",
      "execution_count": 15,
      "metadata": {
        "colab": {
          "base_uri": "https://localhost:8080/",
          "height": 472
        },
        "id": "ow_9yUYznwe3",
        "outputId": "9da72772-9a31-4db2-9ab3-4e97d381c710"
      },
      "outputs": [
        {
          "data": {
            "image/png": "[encoded data removed]",
            "text/plain": [
              "<Figure size 640x480 with 1 Axes>"
            ]
          },
          "metadata": {},
          "output_type": "display_data"
        }
      ],
      "source": [
        "plt.title('Purchase by Customer as per country')\n",
        "sns.barplot(data=session,x='country',y='purchase_count',hue='price_2')\n",
        "plt.xlabel('Country')\n",
        "plt.ylabel('Purchase')\n",
        "plt.show()"
      ]
    },
    {
      "cell_type": "code",
      "execution_count": 16,
      "metadata": {
        "colab": {
          "base_uri": "https://localhost:8080/",
          "height": 472
        },
        "id": "VqmEdaQKx23U",
        "outputId": "09de2ec4-cb41-407b-def7-23dbc4dd97e9"
      },
      "outputs": [
        {
          "data": {
            "image/png": "[encoded data removed]",
            "text/plain": [
              "<Figure size 640x480 with 1 Axes>"
            ]
          },
          "metadata": {},
          "output_type": "display_data"
        }
      ],
      "source": [
        "session=clickstream_train.groupby(['session_id','month'])['session_id'].count().reset_index(name='count')\n",
        "plt.title('Number of clicks per month')\n",
        "sns.lineplot(data=session,x='month',y='count')\n",
        "plt.xlabel('Month')\n",
        "plt.ylabel('Number of clicks')\n",
        "plt.show()"
      ]
    },
    {
      "cell_type": "code",
      "execution_count": 17,
      "metadata": {
        "id": "vOVVqMae387-"
      },
      "outputs": [],
      "source": [
        "session=clickstream_train.groupby(['session_id','page'])['session_id'].count().reset_index(name='count')"
      ]
    },
    {
      "cell_type": "code",
      "execution_count": 18,
      "metadata": {
        "colab": {
          "base_uri": "https://localhost:8080/",
          "height": 472
        },
        "id": "wnCx8dray4iR",
        "outputId": "5f381a1c-df8a-4fae-d287-bb2b281fd742"
      },
      "outputs": [
        {
          "data": {
            "image/png": "[encoded data removed]",
            "text/plain": [
              "<Figure size 640x480 with 1 Axes>"
            ]
          },
          "metadata": {},
          "output_type": "display_data"
        }
      ],
      "source": [
        "plt.title('Number of session per page')\n",
        "sns.countplot(data=session,x='page',)\n",
        "plt.xlabel('Page')\n",
        "plt.ylabel('Number of clicks')\n",
        "plt.show()"
      ]
    },
    {
      "cell_type": "code",
      "execution_count": 19,
      "metadata": {
        "id": "7oZdiI6a278k"
      },
      "outputs": [],
      "source": [
        "photolocation=clickstream_train.groupby(['location','price_2'])['price_2'].count().reset_index(name='purchase_count')"
      ]
    },
    {
      "cell_type": "code",
      "execution_count": 20,
      "metadata": {
        "colab": {
          "base_uri": "https://localhost:8080/",
          "height": 472
        },
        "id": "AIa272NT3V8c",
        "outputId": "03b6369f-822f-48ce-ae23-4a5d3221ab91"
      },
      "outputs": [
        {
          "data": {
            "image/png": "[encoded data removed]",
            "text/plain": [
              "<Figure size 640x480 with 1 Axes>"
            ]
          },
          "metadata": {},
          "output_type": "display_data"
        }
      ],
      "source": [
        "plt.title('Purchase by Customer as per location')\n",
        "sns.barplot(data=photolocation,x='location',y='purchase_count',hue='price_2')\n",
        "plt.xlabel('Location')\n",
        "plt.ylabel('Purchase')\n",
        "plt.show()"
      ]
    },
    {
      "cell_type": "code",
      "execution_count": 21,
      "metadata": {
        "id": "gRcab4wrWQ1E"
      },
      "outputs": [],
      "source": [
        "photolocation=clickstream_train.groupby(['day','price_2'])['price_2'].count().reset_index(name='purchase_count')"
      ]
    },
    {
      "cell_type": "code",
      "execution_count": 22,
      "metadata": {
        "colab": {
          "base_uri": "https://localhost:8080/",
          "height": 472
        },
        "id": "Mk5WocraegZL",
        "outputId": "363e4231-9e9b-4c33-fa85-ebd1c7512ec2"
      },
      "outputs": [
        {
          "data": {
            "image/png": "[encoded data removed]",
            "text/plain": [
              "<Figure size 640x480 with 1 Axes>"
            ]
          },
          "metadata": {},
          "output_type": "display_data"
        }
      ],
      "source": [
        "plt.title('Purchase by Customer as per day')\n",
        "sns.lineplot(data=photolocation,x='day',y='purchase_count',hue='price_2')\n",
        "plt.xlabel('Day')\n",
        "plt.ylabel('Purchase')\n",
        "plt.show()"
      ]
    },
    {
      "cell_type": "code",
      "execution_count": 24,
      "metadata": {
        "colab": {
          "base_uri": "https://localhost:8080/",
          "height": 272
        },
        "id": "fbxaMIs4bG3V",
        "outputId": "75951e0a-4abe-4e85-a40b-deca019a706d"
      },
      "outputs": [
        {
          "data": {
            "text/plain": [
              "country\n",
              "Europe      128900\n",
              "Business      3152\n",
              "Darknet        166\n",
              "Americas       147\n",
              "Asia            14\n",
              "Name: count, dtype: int64"
            ]
          },
          "execution_count": 24,
          "metadata": {},
          "output_type": "execute_result"
        }
      ],
      "source": [
        "clickstream_train['country'].value_counts()"
      ]
    },
    {
      "cell_type": "code",
      "execution_count": 38,
      "metadata": {
        "colab": {
          "base_uri": "https://localhost:8080/",
          "height": 178
        },
        "id": "0eQTAhG0y_OD",
        "outputId": "3e6dd8f3-d111-4b9d-e740-d99c40d78038"
      },
      "outputs": [
        {
          "data": {
            "text/plain": [
              "price_2\n",
              "1    67714\n",
              "2    64665\n",
              "Name: count, dtype: int64"
            ]
          },
          "execution_count": 38,
          "metadata": {},
          "output_type": "execute_result"
        }
      ],
      "source": [
        "clickstream_train['price_2'].value_counts()"
      ]
    },
    {
      "cell_type": "code",
      "execution_count": 39,
      "metadata": {
        "id": "1QHtsh1WkPjv"
      },
      "outputs": [],
      "source": [
        "clickstream_test['clicks']=clickstream_train['session_id'].map(clickstream_train['session_id'].value_counts())"
      ]
    },
    {
      "cell_type": "code",
      "execution_count": 40,
      "metadata": {
        "colab": {
          "base_uri": "https://localhost:8080/",
          "height": 443
        },
        "id": "-6VyeyhyHNYF",
        "outputId": "263cad7b-c81c-4c8e-f3aa-9a60f66f651d"
      },
      "outputs": [
        {
          "data": {
            "text/html": [
              "<div>\n",
              "<style scoped>\n",
              "    .dataframe tbody tr th:only-of-type {\n",
              "        vertical-align: middle;\n",
              "    }\n",
              "\n",
              "    .dataframe tbody tr th {\n",
              "        vertical-align: top;\n",
              "    }\n",
              "\n",
              "    .dataframe thead th {\n",
              "        text-align: right;\n",
              "    }\n",
              "</style>\n",
              "<table border=\"1\" class=\"dataframe\">\n",
              "  <thead>\n",
              "    <tr style=\"text-align: right;\">\n",
              "      <th></th>\n",
              "      <th>year</th>\n",
              "      <th>month</th>\n",
              "      <th>day</th>\n",
              "      <th>order</th>\n",
              "      <th>country</th>\n",
              "      <th>session_id</th>\n",
              "      <th>page1_main_category</th>\n",
              "      <th>page2_clothing_model</th>\n",
              "      <th>colour</th>\n",
              "      <th>location</th>\n",
              "      <th>model_photography</th>\n",
              "      <th>price</th>\n",
              "      <th>price_2</th>\n",
              "      <th>page</th>\n",
              "      <th>clicks</th>\n",
              "    </tr>\n",
              "  </thead>\n",
              "  <tbody>\n",
              "    <tr>\n",
              "      <th>65217</th>\n",
              "      <td>2008</td>\n",
              "      <td>4</td>\n",
              "      <td>1</td>\n",
              "      <td>2</td>\n",
              "      <td>Europe</td>\n",
              "      <td>1</td>\n",
              "      <td>1</td>\n",
              "      <td>A16</td>\n",
              "      <td>1</td>\n",
              "      <td>6</td>\n",
              "      <td>1</td>\n",
              "      <td>33</td>\n",
              "      <td>2</td>\n",
              "      <td>1</td>\n",
              "      <td>8</td>\n",
              "    </tr>\n",
              "    <tr>\n",
              "      <th>94740</th>\n",
              "      <td>2008</td>\n",
              "      <td>4</td>\n",
              "      <td>1</td>\n",
              "      <td>3</td>\n",
              "      <td>Europe</td>\n",
              "      <td>1</td>\n",
              "      <td>2</td>\n",
              "      <td>B4</td>\n",
              "      <td>10</td>\n",
              "      <td>2</td>\n",
              "      <td>1</td>\n",
              "      <td>52</td>\n",
              "      <td>1</td>\n",
              "      <td>1</td>\n",
              "      <td>8</td>\n",
              "    </tr>\n",
              "    <tr>\n",
              "      <th>37541</th>\n",
              "      <td>2008</td>\n",
              "      <td>4</td>\n",
              "      <td>1</td>\n",
              "      <td>4</td>\n",
              "      <td>Europe</td>\n",
              "      <td>1</td>\n",
              "      <td>2</td>\n",
              "      <td>B17</td>\n",
              "      <td>6</td>\n",
              "      <td>6</td>\n",
              "      <td>2</td>\n",
              "      <td>38</td>\n",
              "      <td>2</td>\n",
              "      <td>1</td>\n",
              "      <td>8</td>\n",
              "    </tr>\n",
              "    <tr>\n",
              "      <th>1304</th>\n",
              "      <td>2008</td>\n",
              "      <td>4</td>\n",
              "      <td>1</td>\n",
              "      <td>5</td>\n",
              "      <td>Europe</td>\n",
              "      <td>1</td>\n",
              "      <td>2</td>\n",
              "      <td>B8</td>\n",
              "      <td>4</td>\n",
              "      <td>3</td>\n",
              "      <td>2</td>\n",
              "      <td>52</td>\n",
              "      <td>1</td>\n",
              "      <td>1</td>\n",
              "      <td>8</td>\n",
              "    </tr>\n",
              "    <tr>\n",
              "      <th>119700</th>\n",
              "      <td>2008</td>\n",
              "      <td>4</td>\n",
              "      <td>1</td>\n",
              "      <td>6</td>\n",
              "      <td>Europe</td>\n",
              "      <td>1</td>\n",
              "      <td>3</td>\n",
              "      <td>C56</td>\n",
              "      <td>6</td>\n",
              "      <td>1</td>\n",
              "      <td>2</td>\n",
              "      <td>57</td>\n",
              "      <td>1</td>\n",
              "      <td>4</td>\n",
              "      <td>8</td>\n",
              "    </tr>\n",
              "    <tr>\n",
              "      <th>...</th>\n",
              "      <td>...</td>\n",
              "      <td>...</td>\n",
              "      <td>...</td>\n",
              "      <td>...</td>\n",
              "      <td>...</td>\n",
              "      <td>...</td>\n",
              "      <td>...</td>\n",
              "      <td>...</td>\n",
              "      <td>...</td>\n",
              "      <td>...</td>\n",
              "      <td>...</td>\n",
              "      <td>...</td>\n",
              "      <td>...</td>\n",
              "      <td>...</td>\n",
              "      <td>...</td>\n",
              "    </tr>\n",
              "    <tr>\n",
              "      <th>109417</th>\n",
              "      <td>2008</td>\n",
              "      <td>8</td>\n",
              "      <td>13</td>\n",
              "      <td>1</td>\n",
              "      <td>Europe</td>\n",
              "      <td>24024</td>\n",
              "      <td>2</td>\n",
              "      <td>B10</td>\n",
              "      <td>2</td>\n",
              "      <td>4</td>\n",
              "      <td>1</td>\n",
              "      <td>67</td>\n",
              "      <td>1</td>\n",
              "      <td>1</td>\n",
              "      <td>1</td>\n",
              "    </tr>\n",
              "    <tr>\n",
              "      <th>51669</th>\n",
              "      <td>2008</td>\n",
              "      <td>8</td>\n",
              "      <td>13</td>\n",
              "      <td>1</td>\n",
              "      <td>Europe</td>\n",
              "      <td>24025</td>\n",
              "      <td>1</td>\n",
              "      <td>A11</td>\n",
              "      <td>3</td>\n",
              "      <td>4</td>\n",
              "      <td>1</td>\n",
              "      <td>62</td>\n",
              "      <td>1</td>\n",
              "      <td>1</td>\n",
              "      <td>1</td>\n",
              "    </tr>\n",
              "    <tr>\n",
              "      <th>89568</th>\n",
              "      <td>2008</td>\n",
              "      <td>8</td>\n",
              "      <td>13</td>\n",
              "      <td>1</td>\n",
              "      <td>Europe</td>\n",
              "      <td>24026</td>\n",
              "      <td>1</td>\n",
              "      <td>A2</td>\n",
              "      <td>3</td>\n",
              "      <td>1</td>\n",
              "      <td>1</td>\n",
              "      <td>43</td>\n",
              "      <td>2</td>\n",
              "      <td>1</td>\n",
              "      <td>3</td>\n",
              "    </tr>\n",
              "    <tr>\n",
              "      <th>66753</th>\n",
              "      <td>2008</td>\n",
              "      <td>8</td>\n",
              "      <td>13</td>\n",
              "      <td>2</td>\n",
              "      <td>Europe</td>\n",
              "      <td>24026</td>\n",
              "      <td>3</td>\n",
              "      <td>C2</td>\n",
              "      <td>12</td>\n",
              "      <td>1</td>\n",
              "      <td>1</td>\n",
              "      <td>43</td>\n",
              "      <td>1</td>\n",
              "      <td>1</td>\n",
              "      <td>3</td>\n",
              "    </tr>\n",
              "    <tr>\n",
              "      <th>46857</th>\n",
              "      <td>2008</td>\n",
              "      <td>8</td>\n",
              "      <td>13</td>\n",
              "      <td>3</td>\n",
              "      <td>Europe</td>\n",
              "      <td>24026</td>\n",
              "      <td>2</td>\n",
              "      <td>B2</td>\n",
              "      <td>3</td>\n",
              "      <td>1</td>\n",
              "      <td>2</td>\n",
              "      <td>57</td>\n",
              "      <td>1</td>\n",
              "      <td>1</td>\n",
              "      <td>3</td>\n",
              "    </tr>\n",
              "  </tbody>\n",
              "</table>\n",
              "<p>132379 rows × 15 columns</p>\n",
              "</div>"
            ],
            "text/plain": [
              "        year  month  day  order country  session_id  page1_main_category  \\\n",
              "65217   2008      4    1      2  Europe           1                    1   \n",
              "94740   2008      4    1      3  Europe           1                    2   \n",
              "37541   2008      4    1      4  Europe           1                    2   \n",
              "1304    2008      4    1      5  Europe           1                    2   \n",
              "119700  2008      4    1      6  Europe           1                    3   \n",
              "...      ...    ...  ...    ...     ...         ...                  ...   \n",
              "109417  2008      8   13      1  Europe       24024                    2   \n",
              "51669   2008      8   13      1  Europe       24025                    1   \n",
              "89568   2008      8   13      1  Europe       24026                    1   \n",
              "66753   2008      8   13      2  Europe       24026                    3   \n",
              "46857   2008      8   13      3  Europe       24026                    2   \n",
              "\n",
              "       page2_clothing_model  colour  location  model_photography  price  \\\n",
              "65217                   A16       1         6                  1     33   \n",
              "94740                    B4      10         2                  1     52   \n",
              "37541                   B17       6         6                  2     38   \n",
              "1304                     B8       4         3                  2     52   \n",
              "119700                  C56       6         1                  2     57   \n",
              "...                     ...     ...       ...                ...    ...   \n",
              "109417                  B10       2         4                  1     67   \n",
              "51669                   A11       3         4                  1     62   \n",
              "89568                    A2       3         1                  1     43   \n",
              "66753                    C2      12         1                  1     43   \n",
              "46857                    B2       3         1                  2     57   \n",
              "\n",
              "        price_2  page  clicks  \n",
              "65217         2     1       8  \n",
              "94740         1     1       8  \n",
              "37541         2     1       8  \n",
              "1304          1     1       8  \n",
              "119700        1     4       8  \n",
              "...         ...   ...     ...  \n",
              "109417        1     1       1  \n",
              "51669         1     1       1  \n",
              "89568         2     1       3  \n",
              "66753         1     1       3  \n",
              "46857         1     1       3  \n",
              "\n",
              "[132379 rows x 15 columns]"
            ]
          },
          "execution_count": 40,
          "metadata": {},
          "output_type": "execute_result"
        }
      ],
      "source": [
        "clickstream_train"
      ]
    },
    {
      "cell_type": "code",
      "execution_count": 41,
      "metadata": {
        "id": "NOFBXzVVIQj0"
      },
      "outputs": [],
      "source": [
        "clickstream_train=clickstream_train.sort_values(by=['session_id','order'],ascending=True)"
      ]
    },
    {
      "cell_type": "code",
      "execution_count": 11,
      "metadata": {
        "colab": {
          "base_uri": "https://localhost:8080/",
          "height": 443
        },
        "id": "qWt9KnmJJPHQ",
        "outputId": "50e1be28-f644-40b9-f7ec-e559277a37ab"
      },
      "outputs": [],
      "source": [
        "clickstream_test.to_csv('clickstream_test_prediction.csv',index=False)"
      ]
    },
    {
      "cell_type": "code",
      "execution_count": 43,
      "metadata": {
        "colab": {
          "base_uri": "https://localhost:8080/"
        },
        "id": "k8aRcjuWJjl3",
        "outputId": "a1320b9c-faf1-4648-c3f3-ea1af11e8426"
      },
      "outputs": [
        {
          "name": "stdout",
          "output_type": "stream",
          "text": [
            "23.71890004364906\n"
          ]
        }
      ],
      "source": [
        "session_click=clickstream_train.groupby('session_id').size()\n",
        "bounced_session=session_click[session_click==1].sum()\n",
        "total_session=session_click.count()\n",
        "bounced_rate=(bounced_session/total_session)*100\n",
        "print(bounced_rate)"
      ]
    },
    {
      "cell_type": "code",
      "execution_count": 44,
      "metadata": {
        "colab": {
          "base_uri": "https://localhost:8080/"
        },
        "id": "NexZantKOEJx",
        "outputId": "6c21cb5d-e736-4de1-ba15-596168a3e287"
      },
      "outputs": [
        {
          "name": "stdout",
          "output_type": "stream",
          "text": [
            "page\n",
            "1    17.173788\n",
            "2    15.877988\n",
            "3    17.104072\n",
            "4    21.518987\n",
            "5    30.482456\n",
            "Name: count, dtype: float64\n"
          ]
        }
      ],
      "source": [
        "session_exit=clickstream_train.groupby('session_id')['page'].last()\n",
        "session_exit_count=session_exit.value_counts()\n",
        "total_page=clickstream_train['page'].value_counts()\n",
        "exit_rate=(session_exit_count/total_page)*100\n",
        "print(exit_rate)"
      ]
    },
    {
      "cell_type": "code",
      "execution_count": 45,
      "metadata": {
        "colab": {
          "base_uri": "https://localhost:8080/"
        },
        "id": "VJz6MwVxOysC",
        "outputId": "ca08e1fd-f8bf-43c1-cecc-463aeffcc222"
      },
      "outputs": [
        {
          "name": "stdout",
          "output_type": "stream",
          "text": [
            "Total Users: 22910\n",
            "Returning Users: 17476\n",
            "Revisit Rate: 76.28%\n"
          ]
        }
      ],
      "source": [
        "session_counts = clickstream_train['session_id'].value_counts()\n",
        "\n",
        "total_users = session_counts.count()\n",
        "returning_users = (session_counts > 1).sum()\n",
        "\n",
        "revisit_rate = (returning_users / total_users) * 100\n",
        "\n",
        "print(f\"Total Users: {total_users}\")\n",
        "print(f\"Returning Users: {returning_users}\")\n",
        "print(f\"Revisit Rate: {revisit_rate:.2f}%\")\n"
      ]
    },
    {
      "cell_type": "code",
      "execution_count": 1,
      "metadata": {
        "id": "S-Z5FffgXFwS"
      },
      "outputs": [],
      "source": [
        "from sklearn.preprocessing import LabelEncoder,OneHotEncoder\n",
        "class DataEncoding:\n",
        "  def __init__(self,data):\n",
        "    self.data=data \n",
        "  def label_encoder(self,columns):\n",
        "    label_encoder=LabelEncoder()\n",
        "    for i in columns:\n",
        "      self.data[i]=label_encoder.fit_transform(self.data[i])\n",
        "    return self.data\n",
        "  def one_hot_encoder(self,columns):\n",
        "    one_hot_encoder=OneHotEncoder(sparse_output=False)\n",
        "    encoded_data=one_hot_encoder.fit_transform(self.data[columns])\n",
        "    encoded_columns=one_hot_encoder.get_feature_names_out(columns)\n",
        "    encoded_df=pd.DataFrame(encoded_data,columns=encoded_columns)\n",
        "    self.data=pd.concat([self.data.drop(columns,axis=1),encoded_df],axis=1)\n",
        "    return self.data"
      ]
    },
    {
      "cell_type": "code",
      "execution_count": 33,
      "metadata": {
        "id": "Rgc2DF14gjCt"
      },
      "outputs": [],
      "source": [
        "de=DataEncoding(clickstream_train)\n",
        "clickstream_train=de.one_hot_encoder(['country'])"
      ]
    },
    {
      "cell_type": "code",
      "execution_count": 34,
      "metadata": {
        "id": "QmqxLFSVUwYo"
      },
      "outputs": [],
      "source": [
        "clickstream_train=de.label_encoder(columns=['page2_clothing_model'])"
      ]
    },
    {
      "cell_type": "code",
      "execution_count": 35,
      "metadata": {
        "colab": {
          "base_uri": "https://localhost:8080/",
          "height": 443
        },
        "id": "jobTIdVSX8ti",
        "outputId": "bdb2b148-2b40-49b7-f909-7550b671f98a"
      },
      "outputs": [
        {
          "data": {
            "application/vnd.google.colaboratory.intrinsic+json": {
              "type": "dataframe",
              "variable_name": "clickstream_train"
            },
            "text/html": [
              "\n",
              "  <div id=\"df-e71e39fd-1df2-49c7-abe3-edbd7d903a4c\" class=\"colab-df-container\">\n",
              "    <div>\n",
              "<style scoped>\n",
              "    .dataframe tbody tr th:only-of-type {\n",
              "        vertical-align: middle;\n",
              "    }\n",
              "\n",
              "    .dataframe tbody tr th {\n",
              "        vertical-align: top;\n",
              "    }\n",
              "\n",
              "    .dataframe thead th {\n",
              "        text-align: right;\n",
              "    }\n",
              "</style>\n",
              "<table border=\"1\" class=\"dataframe\">\n",
              "  <thead>\n",
              "    <tr style=\"text-align: right;\">\n",
              "      <th></th>\n",
              "      <th>year</th>\n",
              "      <th>month</th>\n",
              "      <th>day</th>\n",
              "      <th>order</th>\n",
              "      <th>session_id</th>\n",
              "      <th>page1_main_category</th>\n",
              "      <th>page2_clothing_model</th>\n",
              "      <th>colour</th>\n",
              "      <th>location</th>\n",
              "      <th>model_photography</th>\n",
              "      <th>price</th>\n",
              "      <th>price_2</th>\n",
              "      <th>page</th>\n",
              "      <th>clicks</th>\n",
              "      <th>country_Americas</th>\n",
              "      <th>country_Asia</th>\n",
              "      <th>country_Business</th>\n",
              "      <th>country_Darknet</th>\n",
              "      <th>country_Europe</th>\n",
              "    </tr>\n",
              "  </thead>\n",
              "  <tbody>\n",
              "    <tr>\n",
              "      <th>65217</th>\n",
              "      <td>2008</td>\n",
              "      <td>4</td>\n",
              "      <td>1</td>\n",
              "      <td>2</td>\n",
              "      <td>1</td>\n",
              "      <td>1</td>\n",
              "      <td>7</td>\n",
              "      <td>1</td>\n",
              "      <td>6</td>\n",
              "      <td>1</td>\n",
              "      <td>33</td>\n",
              "      <td>2</td>\n",
              "      <td>1</td>\n",
              "      <td>8</td>\n",
              "      <td>0.0</td>\n",
              "      <td>0.0</td>\n",
              "      <td>0.0</td>\n",
              "      <td>0.0</td>\n",
              "      <td>1.0</td>\n",
              "    </tr>\n",
              "    <tr>\n",
              "      <th>94740</th>\n",
              "      <td>2008</td>\n",
              "      <td>4</td>\n",
              "      <td>1</td>\n",
              "      <td>3</td>\n",
              "      <td>1</td>\n",
              "      <td>2</td>\n",
              "      <td>70</td>\n",
              "      <td>10</td>\n",
              "      <td>2</td>\n",
              "      <td>1</td>\n",
              "      <td>52</td>\n",
              "      <td>1</td>\n",
              "      <td>1</td>\n",
              "      <td>8</td>\n",
              "      <td>0.0</td>\n",
              "      <td>0.0</td>\n",
              "      <td>0.0</td>\n",
              "      <td>0.0</td>\n",
              "      <td>1.0</td>\n",
              "    </tr>\n",
              "    <tr>\n",
              "      <th>37541</th>\n",
              "      <td>2008</td>\n",
              "      <td>4</td>\n",
              "      <td>1</td>\n",
              "      <td>4</td>\n",
              "      <td>1</td>\n",
              "      <td>2</td>\n",
              "      <td>51</td>\n",
              "      <td>6</td>\n",
              "      <td>6</td>\n",
              "      <td>2</td>\n",
              "      <td>38</td>\n",
              "      <td>2</td>\n",
              "      <td>1</td>\n",
              "      <td>8</td>\n",
              "      <td>0.0</td>\n",
              "      <td>0.0</td>\n",
              "      <td>0.0</td>\n",
              "      <td>0.0</td>\n",
              "      <td>1.0</td>\n",
              "    </tr>\n",
              "    <tr>\n",
              "      <th>1304</th>\n",
              "      <td>2008</td>\n",
              "      <td>4</td>\n",
              "      <td>1</td>\n",
              "      <td>5</td>\n",
              "      <td>1</td>\n",
              "      <td>2</td>\n",
              "      <td>74</td>\n",
              "      <td>4</td>\n",
              "      <td>3</td>\n",
              "      <td>2</td>\n",
              "      <td>52</td>\n",
              "      <td>1</td>\n",
              "      <td>1</td>\n",
              "      <td>8</td>\n",
              "      <td>0.0</td>\n",
              "      <td>0.0</td>\n",
              "      <td>0.0</td>\n",
              "      <td>0.0</td>\n",
              "      <td>1.0</td>\n",
              "    </tr>\n",
              "    <tr>\n",
              "      <th>119700</th>\n",
              "      <td>2008</td>\n",
              "      <td>4</td>\n",
              "      <td>1</td>\n",
              "      <td>6</td>\n",
              "      <td>1</td>\n",
              "      <td>3</td>\n",
              "      <td>127</td>\n",
              "      <td>6</td>\n",
              "      <td>1</td>\n",
              "      <td>2</td>\n",
              "      <td>57</td>\n",
              "      <td>1</td>\n",
              "      <td>4</td>\n",
              "      <td>8</td>\n",
              "      <td>0.0</td>\n",
              "      <td>0.0</td>\n",
              "      <td>0.0</td>\n",
              "      <td>0.0</td>\n",
              "      <td>1.0</td>\n",
              "    </tr>\n",
              "    <tr>\n",
              "      <th>...</th>\n",
              "      <td>...</td>\n",
              "      <td>...</td>\n",
              "      <td>...</td>\n",
              "      <td>...</td>\n",
              "      <td>...</td>\n",
              "      <td>...</td>\n",
              "      <td>...</td>\n",
              "      <td>...</td>\n",
              "      <td>...</td>\n",
              "      <td>...</td>\n",
              "      <td>...</td>\n",
              "      <td>...</td>\n",
              "      <td>...</td>\n",
              "      <td>...</td>\n",
              "      <td>...</td>\n",
              "      <td>...</td>\n",
              "      <td>...</td>\n",
              "      <td>...</td>\n",
              "      <td>...</td>\n",
              "    </tr>\n",
              "    <tr>\n",
              "      <th>109417</th>\n",
              "      <td>2008</td>\n",
              "      <td>8</td>\n",
              "      <td>13</td>\n",
              "      <td>1</td>\n",
              "      <td>24024</td>\n",
              "      <td>2</td>\n",
              "      <td>44</td>\n",
              "      <td>2</td>\n",
              "      <td>4</td>\n",
              "      <td>1</td>\n",
              "      <td>67</td>\n",
              "      <td>1</td>\n",
              "      <td>1</td>\n",
              "      <td>1</td>\n",
              "      <td>0.0</td>\n",
              "      <td>0.0</td>\n",
              "      <td>0.0</td>\n",
              "      <td>0.0</td>\n",
              "      <td>1.0</td>\n",
              "    </tr>\n",
              "    <tr>\n",
              "      <th>51669</th>\n",
              "      <td>2008</td>\n",
              "      <td>8</td>\n",
              "      <td>13</td>\n",
              "      <td>1</td>\n",
              "      <td>24025</td>\n",
              "      <td>1</td>\n",
              "      <td>2</td>\n",
              "      <td>3</td>\n",
              "      <td>4</td>\n",
              "      <td>1</td>\n",
              "      <td>62</td>\n",
              "      <td>1</td>\n",
              "      <td>1</td>\n",
              "      <td>1</td>\n",
              "      <td>0.0</td>\n",
              "      <td>0.0</td>\n",
              "      <td>0.0</td>\n",
              "      <td>0.0</td>\n",
              "      <td>1.0</td>\n",
              "    </tr>\n",
              "    <tr>\n",
              "      <th>89568</th>\n",
              "      <td>2008</td>\n",
              "      <td>8</td>\n",
              "      <td>13</td>\n",
              "      <td>1</td>\n",
              "      <td>24026</td>\n",
              "      <td>1</td>\n",
              "      <td>11</td>\n",
              "      <td>3</td>\n",
              "      <td>1</td>\n",
              "      <td>1</td>\n",
              "      <td>43</td>\n",
              "      <td>2</td>\n",
              "      <td>1</td>\n",
              "      <td>3</td>\n",
              "      <td>0.0</td>\n",
              "      <td>0.0</td>\n",
              "      <td>0.0</td>\n",
              "      <td>0.0</td>\n",
              "      <td>1.0</td>\n",
              "    </tr>\n",
              "    <tr>\n",
              "      <th>66753</th>\n",
              "      <td>2008</td>\n",
              "      <td>8</td>\n",
              "      <td>13</td>\n",
              "      <td>2</td>\n",
              "      <td>24026</td>\n",
              "      <td>3</td>\n",
              "      <td>87</td>\n",
              "      <td>12</td>\n",
              "      <td>1</td>\n",
              "      <td>1</td>\n",
              "      <td>43</td>\n",
              "      <td>1</td>\n",
              "      <td>1</td>\n",
              "      <td>3</td>\n",
              "      <td>0.0</td>\n",
              "      <td>0.0</td>\n",
              "      <td>0.0</td>\n",
              "      <td>0.0</td>\n",
              "      <td>1.0</td>\n",
              "    </tr>\n",
              "    <tr>\n",
              "      <th>46857</th>\n",
              "      <td>2008</td>\n",
              "      <td>8</td>\n",
              "      <td>13</td>\n",
              "      <td>3</td>\n",
              "      <td>24026</td>\n",
              "      <td>2</td>\n",
              "      <td>53</td>\n",
              "      <td>3</td>\n",
              "      <td>1</td>\n",
              "      <td>2</td>\n",
              "      <td>57</td>\n",
              "      <td>1</td>\n",
              "      <td>1</td>\n",
              "      <td>3</td>\n",
              "      <td>0.0</td>\n",
              "      <td>0.0</td>\n",
              "      <td>0.0</td>\n",
              "      <td>0.0</td>\n",
              "      <td>1.0</td>\n",
              "    </tr>\n",
              "  </tbody>\n",
              "</table>\n",
              "<p>132379 rows × 19 columns</p>\n",
              "</div>\n",
              "    <div class=\"colab-df-buttons\">\n",
              "\n",
              "  <div class=\"colab-df-container\">\n",
              "    <button class=\"colab-df-convert\" onclick=\"convertToInteractive('df-e71e39fd-1df2-49c7-abe3-edbd7d903a4c')\"\n",
              "            title=\"Convert this dataframe to an interactive table.\"\n",
              "            style=\"display:none;\">\n",
              "\n",
              "  <svg xmlns=\"http://www.w3.org/2000/svg\" height=\"24px\" viewBox=\"0 -960 960 960\">\n",
              "    <path d=\"M120-120v-720h720v720H120Zm60-500h600v-160H180v160Zm220 220h160v-160H400v160Zm0 220h160v-160H400v160ZM180-400h160v-160H180v160Zm440 0h160v-160H620v160ZM180-180h160v-160H180v160Zm440 0h160v-160H620v160Z\"/>\n",
              "  </svg>\n",
              "    </button>\n",
              "\n",
              "  <style>\n",
              "    .colab-df-container {\n",
              "      display:flex;\n",
              "      gap: 12px;\n",
              "    }\n",
              "\n",
              "    .colab-df-convert {\n",
              "      background-color: #E8F0FE;\n",
              "      border: none;\n",
              "      border-radius: 50%;\n",
              "      cursor: pointer;\n",
              "      display: none;\n",
              "      fill: #1967D2;\n",
              "      height: 32px;\n",
              "      padding: 0 0 0 0;\n",
              "      width: 32px;\n",
              "    }\n",
              "\n",
              "    .colab-df-convert:hover {\n",
              "      background-color: #E2EBFA;\n",
              "      box-shadow: 0px 1px 2px rgba(60, 64, 67, 0.3), 0px 1px 3px 1px rgba(60, 64, 67, 0.15);\n",
              "      fill: #174EA6;\n",
              "    }\n",
              "\n",
              "    .colab-df-buttons div {\n",
              "      margin-bottom: 4px;\n",
              "    }\n",
              "\n",
              "    [theme=dark] .colab-df-convert {\n",
              "      background-color: #3B4455;\n",
              "      fill: #D2E3FC;\n",
              "    }\n",
              "\n",
              "    [theme=dark] .colab-df-convert:hover {\n",
              "      background-color: #434B5C;\n",
              "      box-shadow: 0px 1px 3px 1px rgba(0, 0, 0, 0.15);\n",
              "      filter: drop-shadow(0px 1px 2px rgba(0, 0, 0, 0.3));\n",
              "      fill: #FFFFFF;\n",
              "    }\n",
              "  </style>\n",
              "\n",
              "    <script>\n",
              "      const buttonEl =\n",
              "        document.querySelector('#df-e71e39fd-1df2-49c7-abe3-edbd7d903a4c button.colab-df-convert');\n",
              "      buttonEl.style.display =\n",
              "        google.colab.kernel.accessAllowed ? 'block' : 'none';\n",
              "\n",
              "      async function convertToInteractive(key) {\n",
              "        const element = document.querySelector('#df-e71e39fd-1df2-49c7-abe3-edbd7d903a4c');\n",
              "        const dataTable =\n",
              "          await google.colab.kernel.invokeFunction('convertToInteractive',\n",
              "                                                    [key], {});\n",
              "        if (!dataTable) return;\n",
              "\n",
              "        const docLinkHtml = 'Like what you see? Visit the ' +\n",
              "          '<a target=\"_blank\" href=https://colab.research.google.com/notebooks/data_table.ipynb>data table notebook</a>'\n",
              "          + ' to learn more about interactive tables.';\n",
              "        element.innerHTML = '';\n",
              "        dataTable['output_type'] = 'display_data';\n",
              "        await google.colab.output.renderOutput(dataTable, element);\n",
              "        const docLink = document.createElement('div');\n",
              "        docLink.innerHTML = docLinkHtml;\n",
              "        element.appendChild(docLink);\n",
              "      }\n",
              "    </script>\n",
              "  </div>\n",
              "\n",
              "\n",
              "<div id=\"df-9af54337-8390-4444-be22-9085e578a465\">\n",
              "  <button class=\"colab-df-quickchart\" onclick=\"quickchart('df-9af54337-8390-4444-be22-9085e578a465')\"\n",
              "            title=\"Suggest charts\"\n",
              "            style=\"display:none;\">\n",
              "\n",
              "<svg xmlns=\"http://www.w3.org/2000/svg\" height=\"24px\"viewBox=\"0 0 24 24\"\n",
              "     width=\"24px\">\n",
              "    <g>\n",
              "        <path d=\"M19 3H5c-1.1 0-2 .9-2 2v14c0 1.1.9 2 2 2h14c1.1 0 2-.9 2-2V5c0-1.1-.9-2-2-2zM9 17H7v-7h2v7zm4 0h-2V7h2v10zm4 0h-2v-4h2v4z\"/>\n",
              "    </g>\n",
              "</svg>\n",
              "  </button>\n",
              "\n",
              "<style>\n",
              "  .colab-df-quickchart {\n",
              "      --bg-color: #E8F0FE;\n",
              "      --fill-color: #1967D2;\n",
              "      --hover-bg-color: #E2EBFA;\n",
              "      --hover-fill-color: #174EA6;\n",
              "      --disabled-fill-color: #AAA;\n",
              "      --disabled-bg-color: #DDD;\n",
              "  }\n",
              "\n",
              "  [theme=dark] .colab-df-quickchart {\n",
              "      --bg-color: #3B4455;\n",
              "      --fill-color: #D2E3FC;\n",
              "      --hover-bg-color: #434B5C;\n",
              "      --hover-fill-color: #FFFFFF;\n",
              "      --disabled-bg-color: #3B4455;\n",
              "      --disabled-fill-color: #666;\n",
              "  }\n",
              "\n",
              "  .colab-df-quickchart {\n",
              "    background-color: var(--bg-color);\n",
              "    border: none;\n",
              "    border-radius: 50%;\n",
              "    cursor: pointer;\n",
              "    display: none;\n",
              "    fill: var(--fill-color);\n",
              "    height: 32px;\n",
              "    padding: 0;\n",
              "    width: 32px;\n",
              "  }\n",
              "\n",
              "  .colab-df-quickchart:hover {\n",
              "    background-color: var(--hover-bg-color);\n",
              "    box-shadow: 0 1px 2px rgba(60, 64, 67, 0.3), 0 1px 3px 1px rgba(60, 64, 67, 0.15);\n",
              "    fill: var(--button-hover-fill-color);\n",
              "  }\n",
              "\n",
              "  .colab-df-quickchart-complete:disabled,\n",
              "  .colab-df-quickchart-complete:disabled:hover {\n",
              "    background-color: var(--disabled-bg-color);\n",
              "    fill: var(--disabled-fill-color);\n",
              "    box-shadow: none;\n",
              "  }\n",
              "\n",
              "  .colab-df-spinner {\n",
              "    border: 2px solid var(--fill-color);\n",
              "    border-color: transparent;\n",
              "    border-bottom-color: var(--fill-color);\n",
              "    animation:\n",
              "      spin 1s steps(1) infinite;\n",
              "  }\n",
              "\n",
              "  @keyframes spin {\n",
              "    0% {\n",
              "      border-color: transparent;\n",
              "      border-bottom-color: var(--fill-color);\n",
              "      border-left-color: var(--fill-color);\n",
              "    }\n",
              "    20% {\n",
              "      border-color: transparent;\n",
              "      border-left-color: var(--fill-color);\n",
              "      border-top-color: var(--fill-color);\n",
              "    }\n",
              "    30% {\n",
              "      border-color: transparent;\n",
              "      border-left-color: var(--fill-color);\n",
              "      border-top-color: var(--fill-color);\n",
              "      border-right-color: var(--fill-color);\n",
              "    }\n",
              "    40% {\n",
              "      border-color: transparent;\n",
              "      border-right-color: var(--fill-color);\n",
              "      border-top-color: var(--fill-color);\n",
              "    }\n",
              "    60% {\n",
              "      border-color: transparent;\n",
              "      border-right-color: var(--fill-color);\n",
              "    }\n",
              "    80% {\n",
              "      border-color: transparent;\n",
              "      border-right-color: var(--fill-color);\n",
              "      border-bottom-color: var(--fill-color);\n",
              "    }\n",
              "    90% {\n",
              "      border-color: transparent;\n",
              "      border-bottom-color: var(--fill-color);\n",
              "    }\n",
              "  }\n",
              "</style>\n",
              "\n",
              "  <script>\n",
              "    async function quickchart(key) {\n",
              "      const quickchartButtonEl =\n",
              "        document.querySelector('#' + key + ' button');\n",
              "      quickchartButtonEl.disabled = true;  // To prevent multiple clicks.\n",
              "      quickchartButtonEl.classList.add('colab-df-spinner');\n",
              "      try {\n",
              "        const charts = await google.colab.kernel.invokeFunction(\n",
              "            'suggestCharts', [key], {});\n",
              "      } catch (error) {\n",
              "        console.error('Error during call to suggestCharts:', error);\n",
              "      }\n",
              "      quickchartButtonEl.classList.remove('colab-df-spinner');\n",
              "      quickchartButtonEl.classList.add('colab-df-quickchart-complete');\n",
              "    }\n",
              "    (() => {\n",
              "      let quickchartButtonEl =\n",
              "        document.querySelector('#df-9af54337-8390-4444-be22-9085e578a465 button');\n",
              "      quickchartButtonEl.style.display =\n",
              "        google.colab.kernel.accessAllowed ? 'block' : 'none';\n",
              "    })();\n",
              "  </script>\n",
              "</div>\n",
              "\n",
              "  <div id=\"id_5b15dac7-3254-44fb-8958-4e930687dd7b\">\n",
              "    <style>\n",
              "      .colab-df-generate {\n",
              "        background-color: #E8F0FE;\n",
              "        border: none;\n",
              "        border-radius: 50%;\n",
              "        cursor: pointer;\n",
              "        display: none;\n",
              "        fill: #1967D2;\n",
              "        height: 32px;\n",
              "        padding: 0 0 0 0;\n",
              "        width: 32px;\n",
              "      }\n",
              "\n",
              "      .colab-df-generate:hover {\n",
              "        background-color: #E2EBFA;\n",
              "        box-shadow: 0px 1px 2px rgba(60, 64, 67, 0.3), 0px 1px 3px 1px rgba(60, 64, 67, 0.15);\n",
              "        fill: #174EA6;\n",
              "      }\n",
              "\n",
              "      [theme=dark] .colab-df-generate {\n",
              "        background-color: #3B4455;\n",
              "        fill: #D2E3FC;\n",
              "      }\n",
              "\n",
              "      [theme=dark] .colab-df-generate:hover {\n",
              "        background-color: #434B5C;\n",
              "        box-shadow: 0px 1px 3px 1px rgba(0, 0, 0, 0.15);\n",
              "        filter: drop-shadow(0px 1px 2px rgba(0, 0, 0, 0.3));\n",
              "        fill: #FFFFFF;\n",
              "      }\n",
              "    </style>\n",
              "    <button class=\"colab-df-generate\" onclick=\"generateWithVariable('clickstream_train')\"\n",
              "            title=\"Generate code using this dataframe.\"\n",
              "            style=\"display:none;\">\n",
              "\n",
              "  <svg xmlns=\"http://www.w3.org/2000/svg\" height=\"24px\"viewBox=\"0 0 24 24\"\n",
              "       width=\"24px\">\n",
              "    <path d=\"M7,19H8.4L18.45,9,17,7.55,7,17.6ZM5,21V16.75L18.45,3.32a2,2,0,0,1,2.83,0l1.4,1.43a1.91,1.91,0,0,1,.58,1.4,1.91,1.91,0,0,1-.58,1.4L9.25,21ZM18.45,9,17,7.55Zm-12,3A5.31,5.31,0,0,0,4.9,8.1,5.31,5.31,0,0,0,1,6.5,5.31,5.31,0,0,0,4.9,4.9,5.31,5.31,0,0,0,6.5,1,5.31,5.31,0,0,0,8.1,4.9,5.31,5.31,0,0,0,12,6.5,5.46,5.46,0,0,0,6.5,12Z\"/>\n",
              "  </svg>\n",
              "    </button>\n",
              "    <script>\n",
              "      (() => {\n",
              "      const buttonEl =\n",
              "        document.querySelector('#id_5b15dac7-3254-44fb-8958-4e930687dd7b button.colab-df-generate');\n",
              "      buttonEl.style.display =\n",
              "        google.colab.kernel.accessAllowed ? 'block' : 'none';\n",
              "\n",
              "      buttonEl.onclick = () => {\n",
              "        google.colab.notebook.generateWithVariable('clickstream_train');\n",
              "      }\n",
              "      })();\n",
              "    </script>\n",
              "  </div>\n",
              "\n",
              "    </div>\n",
              "  </div>\n"
            ],
            "text/plain": [
              "        year  month  day  order  session_id  page1_main_category  \\\n",
              "65217   2008      4    1      2           1                    1   \n",
              "94740   2008      4    1      3           1                    2   \n",
              "37541   2008      4    1      4           1                    2   \n",
              "1304    2008      4    1      5           1                    2   \n",
              "119700  2008      4    1      6           1                    3   \n",
              "...      ...    ...  ...    ...         ...                  ...   \n",
              "109417  2008      8   13      1       24024                    2   \n",
              "51669   2008      8   13      1       24025                    1   \n",
              "89568   2008      8   13      1       24026                    1   \n",
              "66753   2008      8   13      2       24026                    3   \n",
              "46857   2008      8   13      3       24026                    2   \n",
              "\n",
              "        page2_clothing_model  colour  location  model_photography  price  \\\n",
              "65217                      7       1         6                  1     33   \n",
              "94740                     70      10         2                  1     52   \n",
              "37541                     51       6         6                  2     38   \n",
              "1304                      74       4         3                  2     52   \n",
              "119700                   127       6         1                  2     57   \n",
              "...                      ...     ...       ...                ...    ...   \n",
              "109417                    44       2         4                  1     67   \n",
              "51669                      2       3         4                  1     62   \n",
              "89568                     11       3         1                  1     43   \n",
              "66753                     87      12         1                  1     43   \n",
              "46857                     53       3         1                  2     57   \n",
              "\n",
              "        price_2  page  clicks  country_Americas  country_Asia  \\\n",
              "65217         2     1       8               0.0           0.0   \n",
              "94740         1     1       8               0.0           0.0   \n",
              "37541         2     1       8               0.0           0.0   \n",
              "1304          1     1       8               0.0           0.0   \n",
              "119700        1     4       8               0.0           0.0   \n",
              "...         ...   ...     ...               ...           ...   \n",
              "109417        1     1       1               0.0           0.0   \n",
              "51669         1     1       1               0.0           0.0   \n",
              "89568         2     1       3               0.0           0.0   \n",
              "66753         1     1       3               0.0           0.0   \n",
              "46857         1     1       3               0.0           0.0   \n",
              "\n",
              "        country_Business  country_Darknet  country_Europe  \n",
              "65217                0.0              0.0             1.0  \n",
              "94740                0.0              0.0             1.0  \n",
              "37541                0.0              0.0             1.0  \n",
              "1304                 0.0              0.0             1.0  \n",
              "119700               0.0              0.0             1.0  \n",
              "...                  ...              ...             ...  \n",
              "109417               0.0              0.0             1.0  \n",
              "51669                0.0              0.0             1.0  \n",
              "89568                0.0              0.0             1.0  \n",
              "66753                0.0              0.0             1.0  \n",
              "46857                0.0              0.0             1.0  \n",
              "\n",
              "[132379 rows x 19 columns]"
            ]
          },
          "execution_count": 35,
          "metadata": {},
          "output_type": "execute_result"
        }
      ],
      "source": [
        "clickstream_train"
      ]
    },
    {
      "cell_type": "code",
      "execution_count": 36,
      "metadata": {
        "id": "0nJrYoPXYdUZ"
      },
      "outputs": [],
      "source": [
        "clickstream_train=clickstream_train.sort_values(by=['session_id','order'],ascending=True)"
      ]
    },
    {
      "cell_type": "code",
      "execution_count": 69,
      "metadata": {
        "id": "ergF-tdCY5qT"
      },
      "outputs": [],
      "source": [
        "from sklearn.preprocessing import StandardScaler\n",
        "from sklearn.linear_model import LinearRegression,Lasso,Ridge\n",
        "from sklearn.ensemble import GradientBoostingRegressor\n",
        "from xgboost import XGBRegressor\n",
        "from sklearn.metrics import mean_absolute_error,r2_score\n",
        "from sklearn.model_selection import train_test_split\n",
        "import pickle as pkl\n",
        "class regression:\n",
        "  def __init__(self,data):\n",
        "    self.data=None\n",
        "  def linear_regression(self,x_train,x_test,y_train,y_test,):\n",
        "    model=LinearRegression()\n",
        "    model.fit(x_train,y_train)\n",
        "    prediction=model.predict(x_test)\n",
        "    print('R2 score= ',r2_score(y_test,prediction))\n",
        "    print('MAE= ',mean_absolute_error(y_test,prediction))\n",
        "\n",
        "  def lasso_regression(self,x_train,x_test,y_train,y_test):\n",
        "    model=Lasso(alpha=1.0)\n",
        "    model.fit(x_train,y_train)\n",
        "    prediction=model.predict(x_test)\n",
        "    print('R2 score= ',r2_score(y_test,prediction))\n",
        "    print('MAE= ',mean_absolute_error(y_test,prediction))\n",
        "\n",
        "  def ridge_regression(self,x_train,x_test,y_train,y_test):\n",
        "    model=Ridge(alpha=1.0)\n",
        "    model.fit(x_train,y_train)\n",
        "    prediction=model.predict(x_test)\n",
        "    print('R2 score= ',r2_score(y_test,prediction))\n",
        "    print('MAE= ',mean_absolute_error(y_test,prediction))\n",
        "\n",
        "  def gradientboostingregressor(self,x_train,x_test,y_train,y_test):\n",
        "    parameters=dict(n_estimators=1000,max_depth=5,learning_rate=0.1,random_state=42)\n",
        "    gbr_full=GradientBoostingRegressor(**parameters)\n",
        "    gbr_early_stopping=GradientBoostingRegressor(**parameters,validation_fraction=0.1,n_iter_no_change=10)\n",
        "\n",
        "    gbr_full.fit(x_train,y_train)\n",
        "    n_estimators_full = gbr_full.n_estimators_\n",
        "\n",
        "    gbr_early_stopping.fit(x_train, y_train)\n",
        "    estimators_early_stopping = gbr_early_stopping.n_estimators_\n",
        "    optimal_n_estimators = gbr_early_stopping.n_estimators_\n",
        "    final_model = GradientBoostingRegressor(\n",
        "        n_estimators=optimal_n_estimators,\n",
        "        max_depth=5,\n",
        "        learning_rate=0.1,\n",
        "        random_state=42,)\n",
        "    Xfulltrain=x_train\n",
        "    yfulltrain=y_train\n",
        "    final_model.fit(Xfulltrain,yfulltrain)\n",
        "\n",
        "    y_pred_gbr=final_model.predict(x_test)\n",
        "    mae4=mean_absolute_error(y_test,y_pred_gbr)\n",
        "    r24=r2_score(y_test,y_pred_gbr)\n",
        "    print(f\"MAE:{mae4}\")\n",
        "    print(f\"R2:{r24}\")\n",
        "\n",
        "\n",
        "  def xgboost(self,x_train,x_test,y_train,y_test): # Added userinput=None as a default parameter\n",
        "    model=XGBRegressor(objective=\"reg:squarederror\",n_estimators=2000,seed=123,max_depth=5,learning_rate=0.1,random_state=42)\n",
        "    model.fit(x_train,y_train)\n",
        "    prediction=model.predict(x_test)\n",
        "    print('R2 score= ',r2_score(y_test,prediction))\n",
        "    print('MAE= ',mean_absolute_error(y_test,prediction))\n",
        "    with open('xgboost.pkl','wb') as f:\n",
        "      pkl.dump(model,f)"
      ]
    },
    {
      "cell_type": "code",
      "execution_count": 71,
      "metadata": {
        "id": "ZMXwg24_MBDu"
      },
      "outputs": [],
      "source": [
        "x=clickstream_train[['page1_main_category','page2_clothing_model','colour']]\n",
        "y=clickstream_train['price']\n",
        "X_train,X_test,y_train,y_test=train_test_split(x,y,test_size=0.2,random_state=42)\n",
        "scaler=StandardScaler()\n",
        "X_train=scaler.fit_transform(X_train)\n",
        "X_test=scaler.transform(X_test)"
      ]
    },
    {
      "cell_type": "code",
      "execution_count": 72,
      "metadata": {
        "id": "oz6Kh3BmRa-w"
      },
      "outputs": [],
      "source": [
        "reg=regression(clickstream_train)"
      ]
    },
    {
      "cell_type": "code",
      "execution_count": 41,
      "metadata": {
        "colab": {
          "base_uri": "https://localhost:8080/"
        },
        "id": "nASJ_1mkYppa",
        "outputId": "3e5fc5d3-9e84-49f6-a98d-d76769705702"
      },
      "outputs": [
        {
          "name": "stdout",
          "output_type": "stream",
          "text": [
            "MAE:0.01631305959402142\n",
            "R2:0.999996331248519\n"
          ]
        }
      ],
      "source": [
        "reg.gradientboostingregressor(X_train,X_test,y_train,y_test)"
      ]
    },
    {
      "cell_type": "code",
      "execution_count": 43,
      "metadata": {
        "colab": {
          "base_uri": "https://localhost:8080/"
        },
        "id": "j2btSeHEU1IG",
        "outputId": "e5e56abc-00e8-4215-9d93-36f165308bf9"
      },
      "outputs": [
        {
          "name": "stdout",
          "output_type": "stream",
          "text": [
            "R2 score=  0.13525758199277382\n",
            "MAE=  10.046197065125604\n"
          ]
        }
      ],
      "source": [
        "reg.linear_regression(X_train,X_test,y_train,y_test)"
      ]
    },
    {
      "cell_type": "code",
      "execution_count": 44,
      "metadata": {
        "colab": {
          "base_uri": "https://localhost:8080/"
        },
        "id": "tZYKJnu-XCQp",
        "outputId": "79ffc943-7f90-411e-9ca4-e808bc337da2"
      },
      "outputs": [
        {
          "name": "stdout",
          "output_type": "stream",
          "text": [
            "R2 score=  0.1272052824153188\n",
            "MAE=  9.995809025918586\n"
          ]
        }
      ],
      "source": [
        "reg.lasso_regression(X_train,X_test,y_train,y_test)"
      ]
    },
    {
      "cell_type": "code",
      "execution_count": 45,
      "metadata": {
        "colab": {
          "base_uri": "https://localhost:8080/"
        },
        "id": "P_VI9LTyXGpN",
        "outputId": "9e034711-5652-48a9-d32b-2ea0cb98e473"
      },
      "outputs": [
        {
          "name": "stdout",
          "output_type": "stream",
          "text": [
            "R2 score=  0.1352574426325247\n",
            "MAE=  10.04617797449774\n"
          ]
        }
      ],
      "source": [
        "reg.ridge_regression(X_train,X_test,y_train,y_test)"
      ]
    },
    {
      "cell_type": "code",
      "execution_count": 73,
      "metadata": {
        "colab": {
          "base_uri": "https://localhost:8080/"
        },
        "id": "PkL5HRYpXt8c",
        "outputId": "b069feae-de34-4fcf-a030-2687269e7321"
      },
      "outputs": [
        {
          "name": "stdout",
          "output_type": "stream",
          "text": [
            "R2 score=  1.0\n",
            "MAE=  0.0001283938909182325\n"
          ]
        }
      ],
      "source": [
        "reg.xgboost(X_train,X_test,y_train,y_test)"
      ]
    },
    {
      "cell_type": "code",
      "execution_count": 74,
      "metadata": {
        "colab": {
          "base_uri": "https://localhost:8080/",
          "height": 277
        },
        "id": "jYIO-Z1V6_k3",
        "outputId": "5c494db7-0cdb-4846-d2a8-08742e22ee40"
      },
      "outputs": [
        {
          "name": "stdout",
          "output_type": "stream",
          "text": [
            "Enter page1_main_category: 1\n",
            "Enter page2_clothing_model: 3\n",
            "Enter colour: 5\n"
          ]
        },
        {
          "ename": "FileNotFoundError",
          "evalue": "[Errno 2] No such file or directory: 'scaler.pkl'",
          "output_type": "error",
          "traceback": [
            "\u001b[0;31m---------------------------------------------------------------------------\u001b[0m",
            "\u001b[0;31mFileNotFoundError\u001b[0m                         Traceback (most recent call last)",
            "\u001b[0;32m<ipython-input-74-16595cb3ba70>\u001b[0m in \u001b[0;36m<cell line: 0>\u001b[0;34m()\u001b[0m\n\u001b[1;32m     18\u001b[0m \u001b[0;34m\u001b[0m\u001b[0m\n\u001b[1;32m     19\u001b[0m \u001b[0;31m# Load the StandardScaler used during training (assuming it's saved as 'scaler.pkl')\u001b[0m\u001b[0;34m\u001b[0m\u001b[0;34m\u001b[0m\u001b[0m\n\u001b[0;32m---> 20\u001b[0;31m \u001b[0;32mwith\u001b[0m \u001b[0mopen\u001b[0m\u001b[0;34m(\u001b[0m\u001b[0;34m'scaler.pkl'\u001b[0m\u001b[0;34m,\u001b[0m \u001b[0;34m'rb'\u001b[0m\u001b[0;34m)\u001b[0m \u001b[0;32mas\u001b[0m \u001b[0mf\u001b[0m\u001b[0;34m:\u001b[0m\u001b[0;34m\u001b[0m\u001b[0;34m\u001b[0m\u001b[0m\n\u001b[0m\u001b[1;32m     21\u001b[0m     \u001b[0mscaler\u001b[0m \u001b[0;34m=\u001b[0m \u001b[0mpkl\u001b[0m\u001b[0;34m.\u001b[0m\u001b[0mload\u001b[0m\u001b[0;34m(\u001b[0m\u001b[0mf\u001b[0m\u001b[0;34m)\u001b[0m\u001b[0;34m\u001b[0m\u001b[0;34m\u001b[0m\u001b[0m\n\u001b[1;32m     22\u001b[0m \u001b[0;34m\u001b[0m\u001b[0m\n",
            "\u001b[0;31mFileNotFoundError\u001b[0m: [Errno 2] No such file or directory: 'scaler.pkl'"
          ]
        }
      ],
      "source": [
        "# prompt: write a code to check the model with a user input\n",
        "\n",
        "import pickle as pkl\n",
        "import numpy as np\n",
        "from sklearn.preprocessing import StandardScaler\n",
        "\n",
        "# Load the trained XGBoost model\n",
        "with open('xgboost.pkl', 'rb') as f:\n",
        "    model = pkl.load(f)\n",
        "\n",
        "# User input for features\n",
        "page1_main_category = int(input(\"Enter page1_main_category: \"))\n",
        "page2_clothing_model = int(input(\"Enter page2_clothing_model: \"))\n",
        "colour = int(input(\"Enter colour: \"))\n",
        "\n",
        "# Create a NumPy array from user input\n",
        "user_input = np.array([[page1_main_category, page2_clothing_model, colour]])\n",
        "\n",
        "# Load the StandardScaler used during training (assuming it's saved as 'scaler.pkl')\n",
        "with open('scaler.pkl', 'rb') as f:\n",
        "    scaler = pkl.load(f)\n",
        "\n",
        "# Scale the user input using the loaded scaler\n",
        "user_input_scaled = scaler.transform(user_input)\n",
        "\n",
        "# Make a prediction using the loaded model\n",
        "prediction = model.predict(user_input_scaled)\n",
        "\n",
        "# Print the prediction\n",
        "print(\"Predicted price:\", prediction[0])\n"
      ]
    },
    {
      "cell_type": "code",
      "execution_count": 75,
      "metadata": {
        "colab": {
          "base_uri": "https://localhost:8080/"
        },
        "id": "KiJKCGEl_HzQ",
        "outputId": "e90f671c-93dd-40c2-a884-7f3ed923965d"
      },
      "outputs": [
        {
          "name": "stdout",
          "output_type": "stream",
          "text": [
            "Enter page1_main_category: 3\n",
            "Enter page2_clothing_model: 5\n",
            "Enter colour: 5\n",
            "Predicted price: 38.474407\n"
          ]
        },
        {
          "name": "stderr",
          "output_type": "stream",
          "text": [
            "/usr/local/lib/python3.11/dist-packages/sklearn/utils/validation.py:2739: UserWarning: X does not have valid feature names, but StandardScaler was fitted with feature names\n",
            "  warnings.warn(\n"
          ]
        }
      ],
      "source": [
        "import pickle as pkl\n",
        "import numpy as np\n",
        "from sklearn.preprocessing import StandardScaler\n",
        "\n",
        "# Load the trained XGBoost model\n",
        "with open('xgboost.pkl', 'rb') as f:\n",
        "    model = pkl.load(f)\n",
        "\n",
        "# User input for features\n",
        "page1_main_category = int(input(\"Enter page1_main_category: \"))\n",
        "page2_clothing_model = int(input(\"Enter page2_clothing_model: \"))\n",
        "colour = int(input(\"Enter colour: \"))\n",
        "\n",
        "# Create a NumPy array from user input\n",
        "user_input = np.array([[page1_main_category, page2_clothing_model, colour]])\n",
        "\n",
        "# Instead of loading the scaler from a file, since it wasn't saved,\n",
        "# you can create a new instance of StandardScaler and use the previously\n",
        "# fitted scaler (stored in the 'scaler' global variable) to transform the data.\n",
        "# Alternatively, you should have saved the scaler in your previous code using:\n",
        "# with open('scaler.pkl', 'wb') as f:\n",
        "#     pkl.dump(scaler, f)\n",
        "#\n",
        "# Assuming 'scaler' is already fitted in your environment:\n",
        "user_input_scaled = scaler.transform(user_input)\n",
        "\n",
        "# Make a prediction using the loaded model\n",
        "prediction = model.predict(user_input_scaled)\n",
        "\n",
        "# Print the prediction\n",
        "print(\"Predicted price:\", prediction[0])"
      ]
    },
    {
      "cell_type": "code",
      "execution_count": 77,
      "metadata": {
        "id": "TbXZMBk6Ymrl"
      },
      "outputs": [],
      "source": [
        "from sklearn.metrics import accuracy_score,confusion_matrix,classification_report\n",
        "class classification:\n",
        "  def __init__(self,data):\n",
        "    self.data=data\n",
        "\n",
        "  def logistic_regression(self,x_train,x_test,y_train,y_test):\n",
        "    from sklearn.linear_model import LogisticRegression\n",
        "    model=LogisticRegression()\n",
        "    model.fit(x_train,y_train)\n",
        "    prediction=model.predict(x_test)\n",
        "    print('Accuracy= ',accuracy_score(y_test,prediction))\n",
        "    print('Confusion Matrix= \\n',confusion_matrix(y_test,prediction))\n",
        "    print('Classification Report= \\n',classification_report(y_test,prediction))\n",
        "\n",
        "  def decision_tree(self,x_train,x_test,y_train,y_test):\n",
        "    from sklearn.tree import DecisionTreeClassifier\n",
        "    model=DecisionTreeClassifier()\n",
        "    model.fit(x_train,y_train)\n",
        "    prediction=model.predict(x_test)\n",
        "    print('Accuracy= ',accuracy_score(y_test,prediction))\n",
        "    print('Confusion Matrix= \\n',confusion_matrix(y_test,prediction))\n",
        "    print('Classification Report= \\n',classification_report(y_test,prediction))\n",
        "\n",
        "  def random_forest(self,x_train,x_test,y_train,y_test):\n",
        "    from sklearn.ensemble import RandomForestClassifier\n",
        "    model=RandomForestClassifier()\n",
        "    model.fit(x_train,y_train)\n",
        "    prediction=model.predict(x_test)\n",
        "    print('Accuracy= ',accuracy_score(y_test,prediction))\n",
        "    print('Confusion Matrix= \\n',confusion_matrix(y_test,prediction))\n",
        "    print('Classification Report= \\n',classification_report(y_test,prediction))\n",
        "\n",
        "  def xgboost(self,x_train,x_test,y_train,y_test):\n",
        "    from xgboost import XGBClassifier\n",
        "    model=XGBClassifier()\n",
        "    model.fit(x_train,y_train)\n",
        "    prediction=model.predict(x_test)\n",
        "    print('Accuracy= ',accuracy_score(y_test,prediction))\n",
        "    print('Confusion Matrix= \\n',confusion_matrix(y_test,prediction))\n",
        "    print('Classification Report= \\n',classification_report(y_test,prediction))\n"
      ]
    },
    {
      "cell_type": "code",
      "execution_count": 78,
      "metadata": {
        "id": "gtfL7vdubSVN"
      },
      "outputs": [],
      "source": [
        "cls=classification(clickstream_train)"
      ]
    },
    {
      "cell_type": "code",
      "execution_count": 79,
      "metadata": {
        "id": "sOVhHiu9enWc"
      },
      "outputs": [],
      "source": [
        "from sklearn.preprocessing import LabelEncoder\n",
        "x=clickstream_train[['page1_main_category',\t'page2_clothing_model',\t'colour',\t'location',\t'model_photography', 'page', 'price']]\n",
        "y=clickstream_train['price_2']\n",
        "X_train,X_test,y_train,y_test=train_test_split(x,y,test_size=0.2,random_state=42)\n",
        "le = LabelEncoder()\n",
        "y_train = le.fit_transform(y_train)\n",
        "y_test = le.transform(y_test)\n",
        "scaler=StandardScaler()\n",
        "X_train=scaler.fit_transform(X_train)\n",
        "X_test=scaler.transform(X_test)"
      ]
    },
    {
      "cell_type": "code",
      "execution_count": 80,
      "metadata": {
        "colab": {
          "base_uri": "https://localhost:8080/"
        },
        "id": "lORze2iTkt7X",
        "outputId": "a27b124b-1cb1-4278-f549-b385186b5035"
      },
      "outputs": [
        {
          "name": "stdout",
          "output_type": "stream",
          "text": [
            "Accuracy=  1.0\n",
            "Confusion Matrix= \n",
            " [[13524     0]\n",
            " [    0 12952]]\n",
            "Classification Report= \n",
            "               precision    recall  f1-score   support\n",
            "\n",
            "           0       1.00      1.00      1.00     13524\n",
            "           1       1.00      1.00      1.00     12952\n",
            "\n",
            "    accuracy                           1.00     26476\n",
            "   macro avg       1.00      1.00      1.00     26476\n",
            "weighted avg       1.00      1.00      1.00     26476\n",
            "\n"
          ]
        }
      ],
      "source": [
        "cls.decision_tree(X_train,X_test,y_train,y_test)"
      ]
    },
    {
      "cell_type": "code",
      "execution_count": 81,
      "metadata": {
        "colab": {
          "base_uri": "https://localhost:8080/"
        },
        "id": "039bPkCkk2X6",
        "outputId": "b3037a6c-1f7c-4f55-858b-d881f999130a"
      },
      "outputs": [
        {
          "name": "stdout",
          "output_type": "stream",
          "text": [
            "Accuracy=  0.9979981870373168\n",
            "Confusion Matrix= \n",
            " [[13471    53]\n",
            " [    0 12952]]\n",
            "Classification Report= \n",
            "               precision    recall  f1-score   support\n",
            "\n",
            "           0       1.00      1.00      1.00     13524\n",
            "           1       1.00      1.00      1.00     12952\n",
            "\n",
            "    accuracy                           1.00     26476\n",
            "   macro avg       1.00      1.00      1.00     26476\n",
            "weighted avg       1.00      1.00      1.00     26476\n",
            "\n"
          ]
        }
      ],
      "source": [
        "cls.logistic_regression(X_train,X_test,y_train,y_test)"
      ]
    },
    {
      "cell_type": "code",
      "execution_count": 52,
      "metadata": {
        "colab": {
          "base_uri": "https://localhost:8080/"
        },
        "id": "2p4EsVQWk6Dw",
        "outputId": "d436a33a-3a46-4776-a98a-182d4773d89d"
      },
      "outputs": [
        {
          "name": "stdout",
          "output_type": "stream",
          "text": [
            "Accuracy=  1.0\n",
            "Confusion Matrix= \n",
            " [[13524     0]\n",
            " [    0 12952]]\n",
            "Classification Report= \n",
            "               precision    recall  f1-score   support\n",
            "\n",
            "           0       1.00      1.00      1.00     13524\n",
            "           1       1.00      1.00      1.00     12952\n",
            "\n",
            "    accuracy                           1.00     26476\n",
            "   macro avg       1.00      1.00      1.00     26476\n",
            "weighted avg       1.00      1.00      1.00     26476\n",
            "\n"
          ]
        }
      ],
      "source": [
        "cls.random_forest(X_train,X_test,y_train,y_test)"
      ]
    },
    {
      "cell_type": "code",
      "execution_count": 53,
      "metadata": {
        "colab": {
          "base_uri": "https://localhost:8080/"
        },
        "id": "aUWANgollCI9",
        "outputId": "e824f279-d9c7-4dc0-d241-96e00835362c"
      },
      "outputs": [
        {
          "name": "stdout",
          "output_type": "stream",
          "text": [
            "Accuracy=  1.0\n",
            "Confusion Matrix= \n",
            " [[13524     0]\n",
            " [    0 12952]]\n",
            "Classification Report= \n",
            "               precision    recall  f1-score   support\n",
            "\n",
            "           0       1.00      1.00      1.00     13524\n",
            "           1       1.00      1.00      1.00     12952\n",
            "\n",
            "    accuracy                           1.00     26476\n",
            "   macro avg       1.00      1.00      1.00     26476\n",
            "weighted avg       1.00      1.00      1.00     26476\n",
            "\n"
          ]
        }
      ],
      "source": [
        "cls.xgboost(X_train,X_test,y_train,y_test)"
      ]
    },
    {
      "cell_type": "code",
      "execution_count": null,
      "metadata": {
        "id": "P94vCdPyuutD"
      },
      "outputs": [],
      "source": []
    }
  ],
  "metadata": {
    "colab": {
      "provenance": []
    },
    "kernelspec": {
      "display_name": "myvenv",
      "language": "python",
      "name": "python3"
    },
    "language_info": {
      "codemirror_mode": {
        "name": "ipython",
        "version": 3
      },
      "file_extension": ".py",
      "mimetype": "text/x-python",
      "name": "python",
      "nbconvert_exporter": "python",
      "pygments_lexer": "ipython3",
      "version": "3.9.13"
    }
  },
  "nbformat": 4,
  "nbformat_minor": 0
}
